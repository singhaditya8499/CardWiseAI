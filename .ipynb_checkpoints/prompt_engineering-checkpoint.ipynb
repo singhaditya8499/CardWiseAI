{
 "cells": [
  {
   "cell_type": "code",
   "execution_count": 106,
   "id": "eefeeba4",
   "metadata": {},
   "outputs": [],
   "source": [
    "import ast  # for converting embeddings saved as strings back to arrays\n",
    "import openai  # for calling the OpenAI API\n",
    "import pandas as pd  # for storing text and embeddings data\n",
    "import tiktoken  # for counting tokens\n",
    "from scipy import spatial  # for calculating vector similarities for search\n",
    "import os\n",
    "\n",
    "\n",
    "# models\n",
    "EMBEDDING_MODEL = \"text-embedding-ada-002\"\n",
    "# GPT_MODEL = \"gpt-3.5-turbo\"\n",
    "GPT_MODEL = \"gpt-4\""
   ]
  },
  {
   "cell_type": "code",
   "execution_count": 107,
   "id": "96ac7a7e",
   "metadata": {},
   "outputs": [],
   "source": [
    "openai.api_key = \"OPENAI_KEY\""
   ]
  },
  {
   "cell_type": "code",
   "execution_count": 108,
   "id": "22a1cd51",
   "metadata": {},
   "outputs": [],
   "source": [
    "credit_card_data = pd.read_csv(\"./data/credit_card_data_complete.csv\")"
   ]
  },
  {
   "cell_type": "code",
   "execution_count": 109,
   "id": "2ec82fa7",
   "metadata": {},
   "outputs": [],
   "source": [
    "tmp = credit_card_data.iloc[:2]"
   ]
  },
  {
   "cell_type": "code",
   "execution_count": 110,
   "id": "3f3e86d5",
   "metadata": {},
   "outputs": [
    {
     "data": {
      "text/html": [
       "<div>\n",
       "<style scoped>\n",
       "    .dataframe tbody tr th:only-of-type {\n",
       "        vertical-align: middle;\n",
       "    }\n",
       "\n",
       "    .dataframe tbody tr th {\n",
       "        vertical-align: top;\n",
       "    }\n",
       "\n",
       "    .dataframe thead th {\n",
       "        text-align: right;\n",
       "    }\n",
       "</style>\n",
       "<table border=\"1\" class=\"dataframe\">\n",
       "  <thead>\n",
       "    <tr style=\"text-align: right;\">\n",
       "      <th></th>\n",
       "      <th>CreditCardsName</th>\n",
       "      <th>Company</th>\n",
       "      <th>CompanyRating</th>\n",
       "      <th>CardRating</th>\n",
       "      <th>CreditScoreRange</th>\n",
       "      <th>RecomendationPercentage</th>\n",
       "      <th>AnnualFee</th>\n",
       "      <th>AdditionalFees</th>\n",
       "      <th>Benefits</th>\n",
       "      <th>AverageAPR</th>\n",
       "      <th>CreditCardLimit</th>\n",
       "      <th>Link</th>\n",
       "      <th>details</th>\n",
       "    </tr>\n",
       "  </thead>\n",
       "  <tbody>\n",
       "    <tr>\n",
       "      <th>0</th>\n",
       "      <td>Capital One Venture Rewards</td>\n",
       "      <td>Capital One</td>\n",
       "      <td>4.6</td>\n",
       "      <td>4.5</td>\n",
       "      <td>700-850</td>\n",
       "      <td>90%</td>\n",
       "      <td>$95</td>\n",
       "      <td>Foreign Transaction Fee: None</td>\n",
       "      <td>Earn unlimited 1.5% cash back on every purchas...</td>\n",
       "      <td>Variable, based on creditworthiness</td>\n",
       "      <td>Variable, based on creditworthiness</td>\n",
       "      <td>https://www.capitalone.com/credit-cards/venture/</td>\n",
       "      <td>Venture Rewards Travel Card â Apply Today| C...</td>\n",
       "    </tr>\n",
       "    <tr>\n",
       "      <th>1</th>\n",
       "      <td>Capital One Quicksilver</td>\n",
       "      <td>Capital One</td>\n",
       "      <td>4.4</td>\n",
       "      <td>4.3</td>\n",
       "      <td>670-850</td>\n",
       "      <td>88%</td>\n",
       "      <td>$0</td>\n",
       "      <td>Balance Transfer Fee: 3%</td>\n",
       "      <td>- Unlimited 1.5% cash back on every purchase -...</td>\n",
       "      <td>15.99% - 23.99% Variable</td>\n",
       "      <td>Variable, based on creditworthiness</td>\n",
       "      <td>https://www.capitalone.com/credit-cards/quicks...</td>\n",
       "      <td>Quicksilver Cash Rewards Card: Earn Cash Back ...</td>\n",
       "    </tr>\n",
       "  </tbody>\n",
       "</table>\n",
       "</div>"
      ],
      "text/plain": [
       "               CreditCardsName      Company  CompanyRating  CardRating  \\\n",
       "0  Capital One Venture Rewards  Capital One            4.6         4.5   \n",
       "1      Capital One Quicksilver  Capital One            4.4         4.3   \n",
       "\n",
       "  CreditScoreRange RecomendationPercentage AnnualFee  \\\n",
       "0          700-850                     90%      $95    \n",
       "1          670-850                     88%       $0    \n",
       "\n",
       "                  AdditionalFees  \\\n",
       "0  Foreign Transaction Fee: None   \n",
       "1       Balance Transfer Fee: 3%   \n",
       "\n",
       "                                            Benefits  \\\n",
       "0  Earn unlimited 1.5% cash back on every purchas...   \n",
       "1  - Unlimited 1.5% cash back on every purchase -...   \n",
       "\n",
       "                            AverageAPR                      CreditCardLimit  \\\n",
       "0  Variable, based on creditworthiness  Variable, based on creditworthiness   \n",
       "1             15.99% - 23.99% Variable  Variable, based on creditworthiness   \n",
       "\n",
       "                                                Link  \\\n",
       "0   https://www.capitalone.com/credit-cards/venture/   \n",
       "1  https://www.capitalone.com/credit-cards/quicks...   \n",
       "\n",
       "                                             details  \n",
       "0  Venture Rewards Travel Card â Apply Today| C...  \n",
       "1  Quicksilver Cash Rewards Card: Earn Cash Back ...  "
      ]
     },
     "execution_count": 110,
     "metadata": {},
     "output_type": "execute_result"
    }
   ],
   "source": [
    "tmp"
   ]
  },
  {
   "cell_type": "code",
   "execution_count": 111,
   "id": "60d1b4e7",
   "metadata": {},
   "outputs": [
    {
     "data": {
      "text/plain": [
       "Index(['CreditCardsName', 'Company', 'CompanyRating', 'CardRating',\n",
       "       'CreditScoreRange', 'RecomendationPercentage', 'AnnualFee',\n",
       "       'AdditionalFees', 'Benefits', 'AverageAPR', 'CreditCardLimit', 'Link',\n",
       "       'details'],\n",
       "      dtype='object')"
      ]
     },
     "execution_count": 111,
     "metadata": {},
     "output_type": "execute_result"
    }
   ],
   "source": [
    "tmp.columns"
   ]
  },
  {
   "cell_type": "code",
   "execution_count": 130,
   "id": "2f52a8e3",
   "metadata": {},
   "outputs": [],
   "source": [
    "inputData = \"These are the details about the available credit cards: \\n\""
   ]
  },
  {
   "cell_type": "code",
   "execution_count": 131,
   "id": "0fc44b94",
   "metadata": {},
   "outputs": [],
   "source": [
    "for index, row in credit_card_data.iterrows():\n",
    "    row = row.astype(str)\n",
    "    individualCard = \"\"\n",
    "    individualCard += \" Credit card name is: \" + row['CreditCardsName']\n",
    "    individualCard += \" and it is offered by \" + row['Company']\n",
    "    individualCard += \". The company rating is \" + row['CompanyRating']\n",
    "    individualCard += \" and the rating of card offered is \" + row['CardRating']\n",
    "    individualCard += \". The required credit score range is \" + row['CreditScoreRange']\n",
    "    individualCard += \". The card recommendation percentage is \" + row['RecomendationPercentage']\n",
    "    individualCard += \". Annual fee for the card is \" + row['AnnualFee']\n",
    "    individualCard += \". Additional fees associated to the card are \" + row['AdditionalFees']\n",
    "    individualCard += \" and some of the benefits offered are \" + row['Benefits']\n",
    "    individualCard += \". The average APR for the card is \" + row['AverageAPR']\n",
    "    individualCard += \" and the Credit card limit is \" + row['CreditCardLimit']\n",
    "#     individualCard += \" The link to the credit card details is here \" + row['Link']\n",
    "#     individualCard += \" Following the newline character is the complete details of this card \\n\" + row['details']\n",
    "    individualCard += \"\\n\\n\\n\"\n",
    "    \n",
    "    inputData += individualCard"
   ]
  },
  {
   "cell_type": "code",
   "execution_count": 132,
   "id": "dc7c94e6",
   "metadata": {},
   "outputs": [
    {
     "data": {
      "text/plain": [
       "\"These are the details about the available credit cards: \\n Credit card name is: Capital One Venture Rewards and it is offered by Capital One. The company rating is 4.6 and the rating of card offered is 4.5. The required credit score range is 700-850. The card recommendation percentage is 90%. Annual fee for the card is $95 . Additional fees associated to the card are Foreign Transaction Fee: None and some of the benefits offered are Earn unlimited 1.5% cash back on every purchase, every day- Earn 2x miles on every purchase, every day - Up to $100 Global Entry/TSA PreCheck¬Æ fee credit - No foreign transaction fees - Flexible redemption options for travel\\t. The average APR for the card is Variable, based on creditworthiness and the Credit card limit is Variable, based on creditworthiness\\n\\n\\n Credit card name is: Capital One Quicksilver and it is offered by Capital One. The company rating is 4.4 and the rating of card offered is 4.3. The required credit score range is 670-850. The card recommendation percentage is 88%. Annual fee for the card is $0 . Additional fees associated to the card are Balance Transfer Fee: 3% and some of the benefits offered are - Unlimited 1.5% cash back on every purchase - No annual fee - 0% APR on purchases and balance transfers for an introductory period. The average APR for the card is 15.99% - 23.99% Variable and the Credit card limit is Variable, based on creditworthiness\\n\\n\\n Credit card name is: Capital One Platinum and it is offered by Capital One. The company rating is 4.1 and the rating of card offered is 4.0. The required credit score range is 580-850. The card recommendation percentage is 85%. Annual fee for the card is $0 . Additional fees associated to the card are Late Payment Fee: Up to $39\\t and some of the benefits offered are - Access to a higher credit line after making payments on time - No annual fee - CreditWise¬Æ access for monitoring your credit. The average APR for the card is 26.99% Variable and the Credit card limit is Variable, based on creditworthiness\\n\\n\\n Credit card name is: AMEX Platinum Card and it is offered by American Express. The company rating is 4.7 and the rating of card offered is 4.5. The required credit score range is 700-850. The card recommendation percentage is 95%. Annual fee for the card is $695 . Additional fees associated to the card are Foreign Transaction Fee: None and some of the benefits offered are - Earn Membership Rewards¬Æ points for travel, dining, and more - Access to airport lounges worldwide - Up to $200 airline fee credit - Up to $100 Global Entry/TSA PreCheck¬Æ fee credit. The average APR for the card is 15.99% - 22.99% Variable and the Credit card limit is Variable, based on creditworthiness\\n\\n\\n Credit card name is: AMEX Gold Card\\t and it is offered by American Express. The company rating is 4.6 and the rating of card offered is 4.4. The required credit score range is 670-850. The card recommendation percentage is 92%. Annual fee for the card is $250 . Additional fees associated to the card are Balance Transfer Fee: 3% and some of the benefits offered are - Earn Membership Rewards¬Æ points for dining and U.S. supermarkets - Up to $120 dining credit - No foreign transaction fees - 0% APR on purchases for an introductory period. The average APR for the card is 15.99% - 22.99% Variable and the Credit card limit is Variable, based on creditworthiness\\n\\n\\n Credit card name is: AMEX Blue Cash Preferred Card and it is offered by American Express. The company rating is 4.4 and the rating of card offered is 4.3. The required credit score range is 680-850. The card recommendation percentage is 89%. Annual fee for the card is $0 . Additional fees associated to the card are Cash Advance Fee: $10 or 5% and some of the benefits offered are - Earn cash back at U.S. supermarkets and select streaming services - Up to $200 cash back bonus - 0% APR on purchases for an introductory period. The average APR for the card is 13.99% - 23.99% Variable and the Credit card limit is Variable, based on creditworthiness\\n\\n\\n Credit card name is: Apple Card and it is offered by Apple. The company rating is 4.7 and the rating of card offered is 4.6. The required credit score range is Not specified. The card recommendation percentage is Not specified. Annual fee for the card is $0 . Additional fees associated to the card are Foreign Transaction Fee: None and some of the benefits offered are #NAME?. The average APR for the card is 10.99% - 21.99% Variable and the Credit card limit is Variable, based on creditworthiness\\n\\n\\n Credit card name is: Chase Sapphire Preferred¬Æ Card and it is offered by Chase. The company rating is 4.6 and the rating of card offered is 4.5. The required credit score range is 700-850. The card recommendation percentage is 92%. Annual fee for the card is $95 . Additional fees associated to the card are Foreign Transaction Fee: None and some of the benefits offered are - Earn 60,000 bonus points after spending $4,000 on purchases in the first 3 months - 2x points on dining and travel - Transfer points to travel partners - No foreign transaction fees. The average APR for the card is 15.99% - 22.99% Variable and the Credit card limit is Variable, based on creditworthiness\\n\\n\\n Credit card name is: Chase Freedom Flex‚Ñ† and it is offered by Chase. The company rating is 4.5 and the rating of card offered is 4.4. The required credit score range is 670-850. The card recommendation percentage is 90%. Annual fee for the card is $0 . Additional fees associated to the card are Balance Transfer Fee: 3% and some of the benefits offered are - 5% cash back on rotating categories - 1% cash back on all other purchases - 0% APR on purchases and balance transfers for an introductory period. The average APR for the card is 14.99% - 23.74% Variable and the Credit card limit is Variable, based on creditworthiness\\n\\n\\n Credit card name is: Chase Freedom Unlimited¬Æ and it is offered by Chase. The company rating is 4.5 and the rating of card offered is 4.4. The required credit score range is 670-850. The card recommendation percentage is 90%. Annual fee for the card is $0 . Additional fees associated to the card are Balance Transfer Fee: 3% and some of the benefits offered are - Unlimited 1.5% cash back on all purchases - 0% APR on purchases and balance transfers for an introductory period. The average APR for the card is 14.99% - 23.74% Variable and the Credit card limit is Variable, based on creditworthiness\\n\\n\\n Credit card name is: Wells Fargo Propel American Express¬Æ and it is offered by Wells Fargo. The company rating is 4.5 and the rating of card offered is 4.4. The required credit score range is 670-850. The card recommendation percentage is 90%. Annual fee for the card is $0 . Additional fees associated to the card are Foreign Transaction Fee: None and some of the benefits offered are - Earn 20,000 bonus points after spending $1,000 on purchases in the first 3 months - 3x points on dining, travel, and gas stations - No annual fee - Cell phone protection - No foreign transaction fees. The average APR for the card is 14.49% - 24.99% Variable and the Credit card limit is Variable, based on creditworthiness\\n\\n\\n Credit card name is: Wells Fargo Platinum Visa Card and it is offered by Wells Fargo. The company rating is 4.0 and the rating of card offered is 3.9. The required credit score range is 660-850. The card recommendation percentage is 85%. Annual fee for the card is $0 . Additional fees associated to the card are Balance Transfer Fee: Intro fee of 3% and some of the benefits offered are - 0% APR on purchases and balance transfers for an introductory period - No annual fee. The average APR for the card is 16.49% - 24.49% Variable and the Credit card limit is Variable, based on creditworthiness\\n\\n\\n Credit card name is: Wells Fargo Cash Wise Visa¬Æ Card and it is offered by Wells Fargo. The company rating is 4.4 and the rating of card offered is 4.3. The required credit score range is 670-850. The card recommendation percentage is 88%. Annual fee for the card is $0 . Additional fees associated to the card are Balance Transfer Fee: Intro fee of 3% and some of the benefits offered are - Unlimited 1.5% cash back on all purchases - Earn a cash rewards bonus after spending a certain amount in the first few months - 0% APR on purchases and balance transfers for an introductory period. The average APR for the card is 15.49% - 27.49% Variable and the Credit card limit is Variable, based on creditworthiness\\n\\n\\n Credit card name is: Discover it¬Æ Cash Back and it is offered by Discover. The company rating is 4.6 and the rating of card offered is 4.5. The required credit score range is 670-850. The card recommendation percentage is 92%. Annual fee for the card is $0 . Additional fees associated to the card are Foreign Transaction Fee: None and some of the benefits offered are - 5% cash back on rotating categories - 1% cash back on all other purchases - Cashback Match‚Ñ¢ - 0% APR on purchases and balance transfers for an introductory period. The average APR for the card is 11.99% - 22.99% Variable and the Credit card limit is Variable, based on creditworthiness\\n\\n\\n Credit card name is: Discover it¬Æ Miles and it is offered by Discover. The company rating is 4.5 and the rating of card offered is 4.4. The required credit score range is 670-850. The card recommendation percentage is 90%. Annual fee for the card is $0 . Additional fees associated to the card are Balance Transfer Fee: 3% and some of the benefits offered are - Unlimited 1.5x miles on all purchases - Miles Match: At the end of your first year, Discover will match the miles you've earned - No annual fee - 0% APR on purchases and balance transfers for an introductory period. The average APR for the card is 11.99% - 22.99% Variable and the Credit card limit is Variable, based on creditworthiness\\n\\n\\n Credit card name is: Discover it¬Æ Secured Credit Card and it is offered by Discover. The company rating is 4.4 and the rating of card offered is 4.3. The required credit score range is 300-670. The card recommendation percentage is 88%. Annual fee for the card is $0 . Additional fees associated to the card are Late Payment Fee: Up to $40 and some of the benefits offered are - Cashback rewards for responsible use - No annual fee - Option to upgrade to an unsecured card after a period of responsible use - 0% APR on purchases for an introductory period. The average APR for the card is 22.99% Variable and the Credit card limit is Minimum of $200, maximum determined by your deposit\\n\\n\\n Credit card name is: U.S. Bank Altitude¬Æ Go Visa Signature¬Æ Card and it is offered by U.S. Bank. The company rating is 4.5 and the rating of card offered is 4.4. The required credit score range is 700-850. The card recommendation percentage is 92%. Annual fee for the card is $0 . Additional fees associated to the card are Foreign Transaction Fee: None and some of the benefits offered are - Earn 20,000 bonus points after spending $1,000 in the first 90 days - 4x points on dining and takeout, 2x points on streaming, and 1x points on all other purchases - No annual fee - 0% APR on purchases for an introductory period. The average APR for the card is 14.99% - 23.99% Variable and the Credit card limit is Variable, based on creditworthiness\\n\\n\\n Credit card name is: U.S. Bank Cash+‚Ñ¢ Visa Signature¬Æ Card and it is offered by U.S. Bank. The company rating is 4.4 and the rating of card offered is 4.3. The required credit score range is 670-850. The card recommendation percentage is 88%. Annual fee for the card is $0 . Additional fees associated to the card are Balance Transfer Fee: 3% and some of the benefits offered are - Choose your 5% and 2% cash back categories - 0% APR on balance transfers for an introductory period - No annual fee. The average APR for the card is 14.99% - 23.99% Variable and the Credit card limit is Variable, based on creditworthiness\\n\\n\\n Credit card name is: U.S. Bank Platinum Visa Card and it is offered by U.S. Bank. The company rating is 4.1 and the rating of card offered is 4.0. The required credit score range is 650-850. The card recommendation percentage is 85%. Annual fee for the card is $0 . Additional fees associated to the card are Balance Transfer Fee: 3% and some of the benefits offered are - 0% APR on purchases and balance transfers for an introductory period - No annual fee. The average APR for the card is 14.49% - 24.49% Variable and the Credit card limit is Variable, based on creditworthiness\\n\\n\\n\""
      ]
     },
     "execution_count": 132,
     "metadata": {},
     "output_type": "execute_result"
    }
   ],
   "source": [
    "inputData"
   ]
  },
  {
   "cell_type": "code",
   "execution_count": 135,
   "id": "effe668e",
   "metadata": {},
   "outputs": [
    {
     "name": "stdout",
     "output_type": "stream",
     "text": [
      "Based on the information provided, it seems that you might benefit from a card with no foreign transaction fees, given your status as an alien citizen. The Capital One Venture Rewards, AMEX Platinum Card, and Chase Sapphire Preferred® Card all offer this benefit. \n",
      "\n",
      "However, considering your high annual income and savings, you might also benefit from a card that offers a high rewards rate. The AMEX Platinum Card offers Membership Rewards® points for travel, dining, and more, access to airport lounges worldwide, up to $200 airline fee credit, and up to $100 Global Entry/TSA PreCheck® fee credit. \n",
      "\n",
      "The Chase Sapphire Preferred® Card also offers high rewards, with 2x points on dining and travel, and the ability to transfer points to travel partners. \n",
      "\n",
      "Both cards have an annual fee ($695 for the AMEX Platinum and $95 for the Chase Sapphire Preferred), but given your high income and savings, these fees might be offset by the rewards and benefits you could earn. \n",
      "\n",
      "Please note that both cards require a high credit score (700-850), so you would need to meet this requirement to be eligible. \n",
      "\n",
      "In conclusion, both the AMEX Platinum Card and the Chase Sapphire Preferred® Card could be good options for you, depending on your credit score and your spending habits, particularly in relation to travel and dining.\n"
     ]
    }
   ],
   "source": [
    "query = f\"\"\"Use the below article to know about different credit card and to answer the subsequent question. Always try to give the best possible option. If you cant decide or if there is any confusion , write \"I don't know.\"\n",
    "\n",
    "Article:\n",
    "\\\"\\\"\\\"\n",
    "{inputData}\n",
    "\\\"\\\"\\\"\n",
    "\n",
    "Question: I am alien citizen in the US for the last 2 years. I have an annual income of 120000$ and I save around 40000$ a year. Which card should I go for?\"\"\"\n",
    "\n",
    "response = openai.ChatCompletion.create(\n",
    "    messages=[\n",
    "        {'role': 'system', 'content': 'You answer questions about the best credit card option.'},\n",
    "        {'role': 'user', 'content': query},\n",
    "    ],\n",
    "    model=GPT_MODEL,\n",
    "    temperature=0,\n",
    ")\n",
    "\n",
    "print(response['choices'][0]['message']['content'])"
   ]
  },
  {
   "cell_type": "code",
   "execution_count": null,
   "id": "621aff81",
   "metadata": {},
   "outputs": [],
   "source": []
  }
 ],
 "metadata": {
  "kernelspec": {
   "display_name": "Python 3 (ipykernel)",
   "language": "python",
   "name": "python3"
  },
  "language_info": {
   "codemirror_mode": {
    "name": "ipython",
    "version": 3
   },
   "file_extension": ".py",
   "mimetype": "text/x-python",
   "name": "python",
   "nbconvert_exporter": "python",
   "pygments_lexer": "ipython3",
   "version": "3.9.7"
  }
 },
 "nbformat": 4,
 "nbformat_minor": 5
}
